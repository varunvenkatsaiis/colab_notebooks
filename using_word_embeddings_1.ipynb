{
  "nbformat": 4,
  "nbformat_minor": 0,
  "metadata": {
    "colab": {
      "provenance": [],
      "authorship_tag": "ABX9TyN7zyeAlS6sspawziqulk5s",
      "include_colab_link": true
    },
    "kernelspec": {
      "name": "python3",
      "display_name": "Python 3"
    },
    "language_info": {
      "name": "python"
    }
  },
  "cells": [
    {
      "cell_type": "markdown",
      "metadata": {
        "id": "view-in-github",
        "colab_type": "text"
      },
      "source": [
        "<a href=\"https://colab.research.google.com/github/varunvenkatsaiis/colab_notebooks/blob/main/using_word_embeddings_1.ipynb\" target=\"_parent\"><img src=\"https://colab.research.google.com/assets/colab-badge.svg\" alt=\"Open In Colab\"/></a>"
      ]
    },
    {
      "cell_type": "code",
      "execution_count": null,
      "metadata": {
        "id": "F89nwWEVLUlM",
        "colab": {
          "base_uri": "https://localhost:8080/"
        },
        "outputId": "7ce0ff3e-16a8-40e7-b214-feaeefbfaa56"
      },
      "outputs": [
        {
          "output_type": "stream",
          "name": "stdout",
          "text": [
            "--2025-03-21 06:00:21--  https://ai.stanford.edu/~amaas/data/sentiment/aclImdb_v1.tar.gz\n",
            "Resolving ai.stanford.edu (ai.stanford.edu)... 171.64.68.10\n",
            "Connecting to ai.stanford.edu (ai.stanford.edu)|171.64.68.10|:443... connected.\n",
            "HTTP request sent, awaiting response... 200 OK\n",
            "Length: 84125825 (80M) [application/x-gzip]\n",
            "Saving to: ‘aclImdb_v1.tar.gz’\n",
            "\n",
            "aclImdb_v1.tar.gz   100%[===================>]  80.23M  16.6MB/s    in 8.2s    \n",
            "\n",
            "2025-03-21 06:00:30 (9.79 MB/s) - ‘aclImdb_v1.tar.gz’ saved [84125825/84125825]\n",
            "\n"
          ]
        }
      ],
      "source": [
        "!wget https://ai.stanford.edu/~amaas/data/sentiment/aclImdb_v1.tar.gz"
      ]
    },
    {
      "cell_type": "code",
      "source": [
        "!tar -xf aclImdb_v1.tar.gz"
      ],
      "metadata": {
        "id": "F85pCceNShms"
      },
      "execution_count": null,
      "outputs": []
    },
    {
      "cell_type": "code",
      "source": [
        "aclImdb/"
      ],
      "metadata": {
        "colab": {
          "base_uri": "https://localhost:8080/",
          "height": 106
        },
        "id": "2mc5jmU9SYu-",
        "outputId": "8f4d4d06-85f5-411b-ac58-1c04afedd7e3"
      },
      "execution_count": null,
      "outputs": [
        {
          "output_type": "error",
          "ename": "SyntaxError",
          "evalue": "invalid syntax (<ipython-input-3-9219b10e8f06>, line 1)",
          "traceback": [
            "\u001b[0;36m  File \u001b[0;32m\"<ipython-input-3-9219b10e8f06>\"\u001b[0;36m, line \u001b[0;32m1\u001b[0m\n\u001b[0;31m    aclImdb/\u001b[0m\n\u001b[0m            ^\u001b[0m\n\u001b[0;31mSyntaxError\u001b[0m\u001b[0;31m:\u001b[0m invalid syntax\n"
          ]
        }
      ]
    },
    {
      "cell_type": "code",
      "source": [
        "ls"
      ],
      "metadata": {
        "colab": {
          "base_uri": "https://localhost:8080/"
        },
        "id": "6RB-UVR9So1e",
        "outputId": "b01a1792-c2f6-4e86-f6d7-92bbe0bf4c56"
      },
      "execution_count": null,
      "outputs": [
        {
          "output_type": "stream",
          "name": "stdout",
          "text": [
            "\u001b[0m\u001b[01;34maclImdb\u001b[0m/  aclImdb_v1.tar.gz  \u001b[01;34msample_data\u001b[0m/\n"
          ]
        }
      ]
    },
    {
      "cell_type": "code",
      "source": [
        "cd aclImdb/"
      ],
      "metadata": {
        "colab": {
          "base_uri": "https://localhost:8080/"
        },
        "id": "Yf5jrfAlSq9t",
        "outputId": "b327466d-90a6-4297-a228-a837284c2bf9"
      },
      "execution_count": null,
      "outputs": [
        {
          "output_type": "stream",
          "name": "stdout",
          "text": [
            "/content/aclImdb\n"
          ]
        }
      ]
    },
    {
      "cell_type": "code",
      "source": [
        "ls\n"
      ],
      "metadata": {
        "colab": {
          "base_uri": "https://localhost:8080/"
        },
        "id": "DckvLzLQSsZX",
        "outputId": "62ebb672-65e4-4d3d-b1e3-f3eddc5dc8ef"
      },
      "execution_count": null,
      "outputs": [
        {
          "output_type": "stream",
          "name": "stdout",
          "text": [
            "imdbEr.txt  imdb.vocab  README  \u001b[0m\u001b[01;34mtest\u001b[0m/  \u001b[01;34mtrain\u001b[0m/\n"
          ]
        }
      ]
    },
    {
      "cell_type": "code",
      "source": [
        "cd .."
      ],
      "metadata": {
        "colab": {
          "base_uri": "https://localhost:8080/"
        },
        "id": "0CSH5_6vStCd",
        "outputId": "39810ad4-3aa1-4e37-eaf3-384c69a613bf"
      },
      "execution_count": null,
      "outputs": [
        {
          "output_type": "stream",
          "name": "stdout",
          "text": [
            "/content\n"
          ]
        }
      ]
    },
    {
      "cell_type": "code",
      "source": [
        "ls"
      ],
      "metadata": {
        "colab": {
          "base_uri": "https://localhost:8080/"
        },
        "id": "fU5Z1oktSutv",
        "outputId": "dd87faf7-ab87-42f6-b643-dd08877468f1"
      },
      "execution_count": null,
      "outputs": [
        {
          "output_type": "stream",
          "name": "stdout",
          "text": [
            "\u001b[0m\u001b[01;34maclImdb\u001b[0m/  aclImdb_v1.tar.gz  \u001b[01;34msample_data\u001b[0m/\n"
          ]
        }
      ]
    },
    {
      "cell_type": "code",
      "source": [
        "cd aclImdb/"
      ],
      "metadata": {
        "colab": {
          "base_uri": "https://localhost:8080/"
        },
        "id": "2CYv3h5bSvdk",
        "outputId": "8063565f-13cf-48dd-f321-c4ed36ac54a9"
      },
      "execution_count": null,
      "outputs": [
        {
          "output_type": "stream",
          "name": "stdout",
          "text": [
            "/content/aclImdb\n"
          ]
        }
      ]
    },
    {
      "cell_type": "code",
      "source": [
        "cd test/"
      ],
      "metadata": {
        "colab": {
          "base_uri": "https://localhost:8080/"
        },
        "id": "uFyb4WTXSyAs",
        "outputId": "634e5526-1359-4850-aabd-387f34344ce6"
      },
      "execution_count": null,
      "outputs": [
        {
          "output_type": "stream",
          "name": "stdout",
          "text": [
            "/content/aclImdb/test\n"
          ]
        }
      ]
    },
    {
      "cell_type": "code",
      "source": [
        "ls\n"
      ],
      "metadata": {
        "colab": {
          "base_uri": "https://localhost:8080/"
        },
        "id": "x1ywe-YlSzNi",
        "outputId": "4db80f82-4b34-4314-a50a-49081f707290"
      },
      "execution_count": null,
      "outputs": [
        {
          "output_type": "stream",
          "name": "stdout",
          "text": [
            "labeledBow.feat  \u001b[0m\u001b[01;34mneg\u001b[0m/  \u001b[01;34mpos\u001b[0m/  urls_neg.txt  urls_pos.txt\n"
          ]
        }
      ]
    },
    {
      "cell_type": "code",
      "source": [
        "cd ../.."
      ],
      "metadata": {
        "colab": {
          "base_uri": "https://localhost:8080/"
        },
        "id": "gEsdLfGOS0eg",
        "outputId": "9ab25c58-a80f-48d5-eebb-6e827acabe3c"
      },
      "execution_count": null,
      "outputs": [
        {
          "output_type": "stream",
          "name": "stdout",
          "text": [
            "/content\n"
          ]
        }
      ]
    },
    {
      "cell_type": "code",
      "source": [
        "ls\n"
      ],
      "metadata": {
        "colab": {
          "base_uri": "https://localhost:8080/"
        },
        "id": "cj2dwUE5S3rs",
        "outputId": "d450a5f3-6c02-4a49-b194-a9beb922cf01"
      },
      "execution_count": null,
      "outputs": [
        {
          "output_type": "stream",
          "name": "stdout",
          "text": [
            "\u001b[0m\u001b[01;34maclImdb\u001b[0m/  aclImdb_v1.tar.gz  \u001b[01;34msample_data\u001b[0m/\n"
          ]
        }
      ]
    },
    {
      "cell_type": "code",
      "source": [
        "cd aclImdb/"
      ],
      "metadata": {
        "colab": {
          "base_uri": "https://localhost:8080/"
        },
        "id": "QFMTZtTPS4dj",
        "outputId": "cf32b377-af75-45bc-9f48-46812a8f7755"
      },
      "execution_count": null,
      "outputs": [
        {
          "output_type": "stream",
          "name": "stdout",
          "text": [
            "/content/aclImdb\n"
          ]
        }
      ]
    },
    {
      "cell_type": "code",
      "source": [
        "cd train/"
      ],
      "metadata": {
        "colab": {
          "base_uri": "https://localhost:8080/"
        },
        "id": "-2zWrwVvS_dz",
        "outputId": "5e8a9eb4-be62-4d74-c434-afe2f6236bce"
      },
      "execution_count": null,
      "outputs": [
        {
          "output_type": "stream",
          "name": "stdout",
          "text": [
            "/content/aclImdb/train\n"
          ]
        }
      ]
    },
    {
      "cell_type": "code",
      "source": [
        "ls\n"
      ],
      "metadata": {
        "colab": {
          "base_uri": "https://localhost:8080/"
        },
        "id": "BgSxZM0zTBXv",
        "outputId": "72863267-d319-4cef-dbcc-9a7249b29806"
      },
      "execution_count": null,
      "outputs": [
        {
          "output_type": "stream",
          "name": "stdout",
          "text": [
            "labeledBow.feat  \u001b[0m\u001b[01;34mneg\u001b[0m/  \u001b[01;34mpos\u001b[0m/  \u001b[01;34munsup\u001b[0m/  unsupBow.feat  urls_neg.txt  urls_pos.txt  urls_unsup.txt\n"
          ]
        }
      ]
    },
    {
      "cell_type": "code",
      "source": [
        "cd ../../.."
      ],
      "metadata": {
        "colab": {
          "base_uri": "https://localhost:8080/"
        },
        "id": "Uhl3NjHkTCG2",
        "outputId": "cc51eec6-fb2b-4bc4-b59a-fd19ec448728"
      },
      "execution_count": null,
      "outputs": [
        {
          "output_type": "stream",
          "name": "stdout",
          "text": [
            "/\n"
          ]
        }
      ]
    },
    {
      "cell_type": "code",
      "source": [
        "ls"
      ],
      "metadata": {
        "colab": {
          "base_uri": "https://localhost:8080/"
        },
        "id": "JXGD_VXTTDjz",
        "outputId": "7552d0c1-6c3d-4609-8377-c3b46987a298"
      },
      "execution_count": null,
      "outputs": [
        {
          "output_type": "stream",
          "name": "stdout",
          "text": [
            "\u001b[0m\u001b[01;36mbin\u001b[0m@                        \u001b[01;34mdev\u001b[0m/     \u001b[01;36mlib32\u001b[0m@   NGC-DL-CONTAINER-LICENSE  \u001b[01;34mroot\u001b[0m/  \u001b[30;42mtmp\u001b[0m/\n",
            "\u001b[01;34mboot\u001b[0m/                       \u001b[01;34metc\u001b[0m/     \u001b[01;36mlib64\u001b[0m@   \u001b[01;34mopt\u001b[0m/                      \u001b[01;34mrun\u001b[0m/   \u001b[01;34mtools\u001b[0m/\n",
            "\u001b[01;34mcontent\u001b[0m/                    \u001b[01;34mhome\u001b[0m/    \u001b[01;36mlibx32\u001b[0m@  \u001b[01;34mproc\u001b[0m/                     \u001b[01;36msbin\u001b[0m@  \u001b[01;34musr\u001b[0m/\n",
            "cuda-keyring_1.1-1_all.deb  \u001b[01;34mkaggle\u001b[0m/  \u001b[01;34mmedia\u001b[0m/   \u001b[01;34mpython-apt\u001b[0m/               \u001b[01;34msrv\u001b[0m/   \u001b[01;34mvar\u001b[0m/\n",
            "\u001b[01;34mdatalab\u001b[0m/                    \u001b[01;36mlib\u001b[0m@     \u001b[01;34mmnt\u001b[0m/     \u001b[01;32mpython-apt.tar.xz\u001b[0m*        \u001b[01;34msys\u001b[0m/\n"
          ]
        }
      ]
    },
    {
      "cell_type": "code",
      "source": [
        "cd content/"
      ],
      "metadata": {
        "colab": {
          "base_uri": "https://localhost:8080/"
        },
        "id": "9ZaN0zF5TEGh",
        "outputId": "da664859-003a-4da7-eea7-6d7d276d365d"
      },
      "execution_count": null,
      "outputs": [
        {
          "output_type": "stream",
          "name": "stdout",
          "text": [
            "/content\n"
          ]
        }
      ]
    },
    {
      "cell_type": "code",
      "source": [
        "ls"
      ],
      "metadata": {
        "colab": {
          "base_uri": "https://localhost:8080/"
        },
        "id": "Nfcdri5YTFU0",
        "outputId": "72f3c77e-aacc-40b6-ba81-9845bf2d947b"
      },
      "execution_count": null,
      "outputs": [
        {
          "output_type": "stream",
          "name": "stdout",
          "text": [
            "\u001b[0m\u001b[01;34maclImdb\u001b[0m/  aclImdb_v1.tar.gz  \u001b[01;34msample_data\u001b[0m/\n"
          ]
        }
      ]
    },
    {
      "cell_type": "code",
      "source": [
        "!rm -r aclImdb/train/unsup"
      ],
      "metadata": {
        "id": "6cHsLHQpTGHE"
      },
      "execution_count": null,
      "outputs": []
    },
    {
      "cell_type": "code",
      "source": [
        "!cat aclImdb/train/pos/4077_10.txt"
      ],
      "metadata": {
        "colab": {
          "base_uri": "https://localhost:8080/"
        },
        "id": "VcjhFajjTK_e",
        "outputId": "fffc3003-3be3-4aeb-8b6a-29662d22116c"
      },
      "execution_count": null,
      "outputs": [
        {
          "output_type": "stream",
          "name": "stdout",
          "text": [
            "I first saw this back in the early 90s on UK TV, i did like it then but i missed the chance to tape it, many years passed but the film always stuck with me and i lost hope of seeing it TV again, the main thing that stuck with me was the end, the hole castle part really touched me, its easy to watch, has a great story, great music, the list goes on and on, its OK me saying how good it is but everyone will take there own best bits away with them once they have seen it, yes the animation is top notch and beautiful to watch, it does show its age in a very few parts but that has now become part of it beauty, i am so glad it has came out on DVD as it is one of my top 10 films of all time. Buy it or rent it just see it, best viewing is at night alone with drink and food in reach so you don't have to stop the film.<br /><br />Enjoy"
          ]
        }
      ]
    },
    {
      "cell_type": "code",
      "source": [
        "import os , pathlib , shutil , random\n"
      ],
      "metadata": {
        "id": "mSICyyXJTQ_1"
      },
      "execution_count": null,
      "outputs": []
    },
    {
      "cell_type": "code",
      "source": [
        "base_dir = pathlib.Path(\"aclImdb\")\n",
        "val_dir = base_dir / \"val\"\n",
        "train_dir = base_dir / \"train\"\n",
        "\n",
        "for category in (\"pos\" , \"neg\"):\n",
        "  os.makedirs(val_dir / category)\n",
        "  files = os.listdir(train_dir / category)\n",
        "  random.Random(1337).shuffle(files)\n",
        "  num_val_samples = int(0.2 * len(files))\n",
        "  val_files = files[-num_val_samples : ]\n",
        "  for fname in val_files:\n",
        "    shutil.move( train_dir / category / fname ,\n",
        "                val_dir / category / fname)\n",
        "\n"
      ],
      "metadata": {
        "id": "mAHRSwpaTb3f"
      },
      "execution_count": null,
      "outputs": []
    },
    {
      "cell_type": "code",
      "source": [
        "ls\n"
      ],
      "metadata": {
        "colab": {
          "base_uri": "https://localhost:8080/"
        },
        "id": "rPpm5NbiWQzU",
        "outputId": "85053f5f-d8b9-4819-f04a-99ac49f38ce7"
      },
      "execution_count": null,
      "outputs": [
        {
          "output_type": "stream",
          "name": "stdout",
          "text": [
            "\u001b[0m\u001b[01;34maclImdb\u001b[0m/  aclImdb_v1.tar.gz  \u001b[01;34msample_data\u001b[0m/\n"
          ]
        }
      ]
    },
    {
      "cell_type": "code",
      "source": [
        "cd aclImdb/"
      ],
      "metadata": {
        "colab": {
          "base_uri": "https://localhost:8080/"
        },
        "id": "awiBdi2YWSff",
        "outputId": "92e76da9-9487-4bc6-9fb3-0d18109e88ed"
      },
      "execution_count": null,
      "outputs": [
        {
          "output_type": "stream",
          "name": "stdout",
          "text": [
            "/content/aclImdb\n"
          ]
        }
      ]
    },
    {
      "cell_type": "code",
      "source": [
        "ls\n"
      ],
      "metadata": {
        "colab": {
          "base_uri": "https://localhost:8080/"
        },
        "id": "0K0DLEBzWTba",
        "outputId": "707b437f-f40f-43fc-e3fb-6d143afaa77e"
      },
      "execution_count": null,
      "outputs": [
        {
          "output_type": "stream",
          "name": "stdout",
          "text": [
            "imdbEr.txt  imdb.vocab  README  \u001b[0m\u001b[01;34mtest\u001b[0m/  \u001b[01;34mtrain\u001b[0m/  \u001b[01;34mval\u001b[0m/\n"
          ]
        }
      ]
    },
    {
      "cell_type": "code",
      "source": [
        "cd val/"
      ],
      "metadata": {
        "colab": {
          "base_uri": "https://localhost:8080/"
        },
        "id": "i67OSmUdWT2Q",
        "outputId": "b05ac4bb-4634-4388-9a53-15190ea244e7"
      },
      "execution_count": null,
      "outputs": [
        {
          "output_type": "stream",
          "name": "stdout",
          "text": [
            "/content/aclImdb/val\n"
          ]
        }
      ]
    },
    {
      "cell_type": "code",
      "source": [
        "ls"
      ],
      "metadata": {
        "colab": {
          "base_uri": "https://localhost:8080/"
        },
        "id": "kEBti8qLWVwC",
        "outputId": "5cacc84f-2f12-436b-8c39-eeb08b842813"
      },
      "execution_count": null,
      "outputs": [
        {
          "output_type": "stream",
          "name": "stdout",
          "text": [
            "\u001b[0m\u001b[01;34mneg\u001b[0m/  \u001b[01;34mpos\u001b[0m/\n"
          ]
        }
      ]
    },
    {
      "cell_type": "code",
      "source": [
        "cd ../../"
      ],
      "metadata": {
        "colab": {
          "base_uri": "https://localhost:8080/"
        },
        "id": "wl7cpOzhWWUW",
        "outputId": "a1cedd9a-2378-42c7-dcb7-0be8a6e0e09c"
      },
      "execution_count": null,
      "outputs": [
        {
          "output_type": "stream",
          "name": "stdout",
          "text": [
            "/content\n"
          ]
        }
      ]
    },
    {
      "cell_type": "code",
      "source": [
        "ls\n"
      ],
      "metadata": {
        "colab": {
          "base_uri": "https://localhost:8080/"
        },
        "id": "nl3B3CWnWYPy",
        "outputId": "10ed161d-0b37-4dab-ee74-7770bd95bcde"
      },
      "execution_count": null,
      "outputs": [
        {
          "output_type": "stream",
          "name": "stdout",
          "text": [
            "\u001b[0m\u001b[01;34maclImdb\u001b[0m/  aclImdb_v1.tar.gz  \u001b[01;34msample_data\u001b[0m/\n"
          ]
        }
      ]
    },
    {
      "cell_type": "code",
      "source": [
        "from tensorflow import keras"
      ],
      "metadata": {
        "id": "Q0dEeEsPWYzI"
      },
      "execution_count": null,
      "outputs": []
    },
    {
      "cell_type": "code",
      "source": [
        "batch_size = 32"
      ],
      "metadata": {
        "id": "gpt4dzaZXWQH"
      },
      "execution_count": null,
      "outputs": []
    },
    {
      "cell_type": "code",
      "source": [
        "train_ds = keras.utils.text_dataset_from_directory(\n",
        "\n",
        "    \"aclImdb/train\" , batch_size = batch_size\n",
        ")"
      ],
      "metadata": {
        "colab": {
          "base_uri": "https://localhost:8080/"
        },
        "id": "QIFVvp66XY3s",
        "outputId": "873b9b36-e85f-472a-e258-328df2aa5a5a"
      },
      "execution_count": null,
      "outputs": [
        {
          "output_type": "stream",
          "name": "stdout",
          "text": [
            "Found 20000 files belonging to 2 classes.\n"
          ]
        }
      ]
    },
    {
      "cell_type": "code",
      "source": [
        "val_ds = keras.utils.text_dataset_from_directory(\n",
        "\n",
        "    \"aclImdb/val\" , batch_size = batch_size\n",
        ")"
      ],
      "metadata": {
        "colab": {
          "base_uri": "https://localhost:8080/"
        },
        "id": "ppBV6_R_XqEG",
        "outputId": "d4c698be-df9e-41e4-c6f3-bdb883b784e7"
      },
      "execution_count": null,
      "outputs": [
        {
          "output_type": "stream",
          "name": "stdout",
          "text": [
            "Found 5000 files belonging to 2 classes.\n"
          ]
        }
      ]
    },
    {
      "cell_type": "code",
      "source": [
        "test_ds = keras.utils.text_dataset_from_directory(\n",
        "\n",
        "    \"aclImdb/test\" , batch_size = batch_size\n",
        ")"
      ],
      "metadata": {
        "colab": {
          "base_uri": "https://localhost:8080/"
        },
        "id": "EFjvZnAGYCsY",
        "outputId": "b7e9e920-4aa2-455e-d292-18b7e709063a"
      },
      "execution_count": null,
      "outputs": [
        {
          "output_type": "stream",
          "name": "stdout",
          "text": [
            "Found 25000 files belonging to 2 classes.\n"
          ]
        }
      ]
    },
    {
      "cell_type": "code",
      "source": [
        "print(val_ds)"
      ],
      "metadata": {
        "colab": {
          "base_uri": "https://localhost:8080/"
        },
        "id": "8f0uc-zfYF_1",
        "outputId": "a0647ade-c7de-4a44-84ad-08cde511c36e"
      },
      "execution_count": null,
      "outputs": [
        {
          "output_type": "stream",
          "name": "stdout",
          "text": [
            "<_PrefetchDataset element_spec=(TensorSpec(shape=(None,), dtype=tf.string, name=None), TensorSpec(shape=(None,), dtype=tf.int32, name=None))>\n"
          ]
        }
      ]
    },
    {
      "cell_type": "code",
      "source": [
        "val_ds.class_names"
      ],
      "metadata": {
        "colab": {
          "base_uri": "https://localhost:8080/"
        },
        "id": "U0eKr9L0YIzl",
        "outputId": "c0b60ab0-a38f-4b03-82d5-0b0fd5754fd5"
      },
      "execution_count": null,
      "outputs": [
        {
          "output_type": "execute_result",
          "data": {
            "text/plain": [
              "['neg', 'pos']"
            ]
          },
          "metadata": {},
          "execution_count": 39
        }
      ]
    },
    {
      "cell_type": "code",
      "source": [
        "val_ds.shape"
      ],
      "metadata": {
        "colab": {
          "base_uri": "https://localhost:8080/",
          "height": 141
        },
        "id": "4YuOd772YMeH",
        "outputId": "51f6796b-7bca-4523-c760-d6d849c6389b"
      },
      "execution_count": null,
      "outputs": [
        {
          "output_type": "error",
          "ename": "AttributeError",
          "evalue": "'_PrefetchDataset' object has no attribute 'shape'",
          "traceback": [
            "\u001b[0;31m---------------------------------------------------------------------------\u001b[0m",
            "\u001b[0;31mAttributeError\u001b[0m                            Traceback (most recent call last)",
            "\u001b[0;32m<ipython-input-40-a619e31c3ff9>\u001b[0m in \u001b[0;36m<cell line: 0>\u001b[0;34m()\u001b[0m\n\u001b[0;32m----> 1\u001b[0;31m \u001b[0mval_ds\u001b[0m\u001b[0;34m.\u001b[0m\u001b[0mshape\u001b[0m\u001b[0;34m\u001b[0m\u001b[0;34m\u001b[0m\u001b[0m\n\u001b[0m",
            "\u001b[0;31mAttributeError\u001b[0m: '_PrefetchDataset' object has no attribute 'shape'"
          ]
        }
      ]
    },
    {
      "cell_type": "code",
      "source": [
        "for i in val_ds:\n",
        "  print(i)\n",
        "  break;"
      ],
      "metadata": {
        "colab": {
          "base_uri": "https://localhost:8080/"
        },
        "id": "ttkZIfm2YQoB",
        "outputId": "8750cf84-072a-403d-e231-d4781ed171e2"
      },
      "execution_count": null,
      "outputs": [
        {
          "output_type": "stream",
          "name": "stdout",
          "text": [
            "(<tf.Tensor: shape=(32,), dtype=string, numpy=\n",
            "array([b'I have seen and liked the original film, and expected more from a remake than this.<br /><br />GOOD: Effects and makeup are good. No complaints about the score and visuals, they are adequate, and the performances were okay (Tim Roth was excellent, the other principals were fine, and a handful of the \"supporting supporting actors\" did very well with extremely limited roles). The action scenes were exciting and fun.<br /><br />BAD: The escape from the ape city was terrible. The characters are going in circles, then suddenly someplace in the middle of town there are tunnels to escape. Plus, what escape route leads through everybody\\'s bedroom?<br /><br />The story was pared down to include as much action as possible. I like action scenes but the original film had more meat to it and deserved more respect.<br /><br />Finally, the ending was completely nonsensical as presented. Without seeing the inevitable sequel, there is no justification for it.<br /><br />',\n",
            "       b\"I can't believe that people thought this stinking heap of trash was funny. Shifting the attempts at humor among cruelty, disgust and stupidity, 'There's Something About Mary' leaves little reason to stay until the end. Sure, Cameron Diaz is very pretty, but that is never going to be enough to save a movie. Ben Stiller tries hard to work within the plot, and is obviously very talented, but the movie is a loser.<br /><br />Not once were any of the scenes believable. The shots were badly timed and poorly framed. The Farreley brothers should be kept away from making films at all costs. I check IMDB to see what they are working on just so I know what to avoid.<br /><br />2/10; the bonus is from the one time I smiled. It's not like I'm immune to humor or alone in my opinion. My wife hated it, too. The next day we saw 'Rush Hour' and laughed ourselves silly. This movie just stunk.\",\n",
            "       b'A bickering, American family, vacationing in the west, discover a strange ghost town in the middle of the desert. Little do they know that this ghost town was once a test site for nuclear bombs, and a deadly presence is stalking them. I generally love mystery-horror films like this. \"Cube\", Spielberg\\'s \"Duel\" and \"The Birds\" are all great examples of movies that give no answers but nonetheless leave us intrigued and wanting more. Apparently, \"Disappearance\" writer/director Walter Klenhard was trying to make just that kind of film, and whether or not he succeeded is up to the viewer. I personally think he got about half way there, then the film just sunk.<br /><br />The actors are all kind of just \"ho-hum\". Their not especially bad but we as an audience never really feel their fear and they react to situations in unrealistic ways. Is anyone else absolutely SICK of characters just walking out off to investigate strange sounds?!?!? At least give them SOME kind of justification for doing so!?!?!?<br /><br />As far as made-for-TV films go it\\'s an above average fair for sure. Director Klenhard Should be commended for really milking the desert environment for everything it offered and some of the setting were striking. There\\'s a really cool scene where two characters find an old nuclear test ground were the sand had been completely melted to glass for as far as the eye could see. I wonder if that was real\\xc2\\x85<br /><br />No gore to speak of, and the \\'creatures\\'\\xc2\\x85or what ever the hell it is that\\'s after these people\\xc2\\x85are never shown, not to mention that we are never even given a real clue as to what they are (Mutants, aliens, ghosts or ancient evil Indian spirits\\xc2\\x85Oh, that really narrows it down for us!) or where the come from. <br /><br />There are lots of clich\\xc3\\xa9s here, too. Why is it that towns-folk in these kinds of films are always really, really dumb? Why is there always an old guy everyone thinks is crazy that turns out to be correct? Why? Why? Why? How \\'bout a NEW scenario, folks! <br /><br />\"Disappearance\" tries to be different and intelligent but ultimately fails in that in many ways it\\'s too familiar to us fans of direct-to-video horror fodder. Hey, I\\'ve seen much worse films, and disappearance ain\\'t bad, it\\'s just too\\xc2\\x85 Average.<br /><br />4/10.',\n",
            "       b\"This movie was heavily marred by the presence of Steven Seagal. Or as I should say Steven So-dull! Like before Seagal is either too good or too stupid to re-dub his own lines, leaving someone to impersonate his voice for the shots where the sound needed to be looped. A few films before this was he has done this too, but I don't think to this extent! To be honest the film looks pretty good, the script could use some work but parts of this film looked like a real movie! Of course, all told, this film is pretty bad.<br /><br />It would have been much better without Seagal who has become a cartoon of himself. Don't bother. Anything over a buck for this one is too much! I honestly think this is the last time for me and a Seagal film. What's taken me so long to realize this?!\",\n",
            "       b\"Daraar got off to a pretty good start. The first scene really left me at the edge of my seat wondering what would happen next. Other than that, the first half of the movie is a total BORE. All the first half of the movie is about is Rishi Kapoor falling head over heels in love with Juhi Chawla. By the way, don't you think he's a little old for her???<br /><br />Things finally start to spice up towards the middle of the film when Juhi tells us about her previous husband; and wow what a lunatic is he! He was an over-protective, neat-freak with a really HOT TEMPER! He used to beat up poor Juhi for no good reason! One of the reasons I really don't like this movie is because I can't stand to see Juhi (my favorite actress) get so abused. This film in general has WAY too much abuse and bloodshed; I find it so sickening!!!<br /><br />Anyway, all I'm trying to say is if you're thinking about renting Daraar, you should put it right back on the shelf where you found it and pick something else!\",\n",
            "       b\"I'm probably not giving this movie a fair shake, as I was unable to watch all of it. Perhaps if I'd seen it in a theater, in its original presentation, I might have appreciated it, but it's far too slow-moving for me.<br /><br />I read the book some 25 years ago and the details of the plot have faded from memory. This did not help the film, as it's something less than vivid and clear in its presentation of events.<br /><br />This is really four linked films, or a film in four parts, and was, I believe, intended to be seen over four nights in a theatrical presentation. I found Part I to be enjoyable enough, but it was all I could do to sit through Part II, which drags interminably. Reading Tolstoy's philosophizing is one thing. If you get a good translation or can read it in the original, his brilliant writing far outweighs any issues one might have with the pace of the story. On film, however, it's hard to reproduce without being ponderous.<br /><br />I have other issues with the parts of the film that I saw. It's very splashy, with a lot of hey-ma-look-at-this camera work that calls attention to itself, instead of serving to advance the story.<br /><br />Clearly, I'm missing something, but I just couldn't summon the enthusiasm to crank up parts III and IV.\",\n",
            "       b'I can hardly believe I watched this again last night after more than 25 years...<br /><br />Some time back, I watched 6 Fu films in a row... Boris Karloff, and all 5 Chris Lees. The last 2 Lees, both directed (and I use that word loosely) by Jess Franco, were abominable. At the time, I skipped this one, remembering that, in some ways, it was EVEN WORSE.<br /><br />Well, I watched it. NEVER again. You know what\\'s worse that an abominable film? A really WELL-MADE piece of S***. And that\\'s what FIENDISH PLOT is. It is a VERY good-looking movie. GREAT production design, sets, costumes, music, photography, editing, mostly good cast, some decent acting...<br /><br />...and absolutely, positively, one of the WORST SCRIPTS in movie history!!!!! AAAUGH!!!!! The first minute of the film is so deceptive... one might mistake this for a decent movie. And then they start singing \"Happy birthday to Fu\"... and it goes downhill. Having Burt Kwouk (of whom his master says, \"Your face-- is familiar.\") accidentally pour out Fu\\'s elixir vitae to put out a fire, resulting in his being condemned to torture, burial and having one of his ears cut off, was the closest thing to funny they had. It was like someone decided they wanted to do a \"campy\" film-- so ridiculous it would be funny. RIDICULOUS, it is... FUNNY... it AIN\\'T. At all.<br /><br />It\\'s sad, because it\\'s clear in the first few minutes that someone did a LOT of research into the Fu Manchu series in order to get so much of it \"right\". With a different script-- either a really FUNNY one, or a dead SERIOUS one, they might have-- could have-- SHOULD have-- had a classic on their hands. A film that could have made one forget the horror of those Jess Franco atrocities... instead of making one want to dig them out as masterpieces, by comparison.<br /><br />There was a period in the late 70\\'s when a whole slew of classic 30\\'s characters were revived in movies that were universally awful. Buck Rogers, Flash Gordon, Tarzan, The Lone Ranger, Charlie Chan, even Doc Savage. I\\'m not sure, this one may be the worst of the lot. It took great self-control not to fast-forward over whole sections of it, especially any scenes containing Sid Caesar (FBI chief who was also Al Capone\\'s cousin-- you see what I mean?). It isn\\'t just that the ideas in the film aren\\'t funny... they often make NO SENSE whatsoever. Like when they \"audition\" police officers to impersonate the King and Queen, and we wind up seeing people \"audition\" dance-hall routines like singing, dancing, and riding a unicycle. How many drugs did the writers of this thing have to take for any of this to make sense to them? <br /><br />As I said, a shame... and a real waste of all that talent, including that of Peter Sellers (who played both Fu and Nayland Smith), Burt Kwouk (who\\'d been in a Chris Lee Fu film in his time), Helen Mirren (the police woman who shockingly falls in love with the villain and damn near steals the last half-hour of the film!). I begin to wonder if anyone will EVER make a \"proper\" Fu Manchu film, or if fans will have to settle for Karloff\\'s being almost the ONLY one?',\n",
            "       b'This film takes what could have been a good idea, a mummified 2000 year old witch and completely destroys it. Nora and Jim are alcoholics who go to Ireland to dry-out. They go to stay with her Nan and Uncle. The uncle has discovered a 2000 year old witch preserved in the peat. He revives her and she takes the form of Nora. She cannot be killed conventionally,(more is the pity). Nora, however, works out a way to do so.<br /><br />This is a Gothic horror movie that has been done on the cheap. It is a sprawling mess. I have to ask why anyone would want to make such a bad film. I am tempted to learn witchcraft in order to make it disappear.<br /><br />AVOID AT ALL COSTS',\n",
            "       b\"An excellent depiction of one of the more unwholesome aspects of that era. I loved the visuals--very fitting for a story connected to a graphic novel.<br /><br />I thought Tom Hanks was really great in this, he came across very well as someone who has been hardened by his work (which he didn't fully choose for himself) but still wants to have a normal life for his family. He does the best he can to see that happen. DOn't want to spoil the plot--but YOU HAVE TO SEE this movie if you are a person who wants more from a movie than the usual shoot 'em up action/gangster format. (It is violent though.)\",\n",
            "       b\"In this 'sequel' Bruce is still called Billy Lo (get it? Bruce= Billy, Lo= Lee. No?) But apart from that, that's all it has in common with the other movie. Billy doesn't seem to be an actor anymore. He seems to be in another country. He's more like a spy. He's the only cast member to return and sadly, they kill him off to make way for a new character, his brother, Bobby. Sadly, when Bruce dies, the movie pretty much dies with him. This was extremely poorly made. It seemed like they were writing the script as they were filming. The footage works for a while (it's not too obvious at first) but soon Bruce is always shown in the dark all the time (he kicks out a light at one stage for no other apparent reason to hide the fact that it's not Bruce playing the part). Sadly when he dies the movie changes. I can't help but wonder if they were filming as they were writing and may well have planned to keep Bruce alive, but later decided to kill him off because it would not have been plausible as Bobby does not appear until Billy is dead. It's hard to change the lead character halfway in the movie and Bruce is a hard act to follow so it's hard to now accept Bobby as the star. Bruce is never seen again in this movie. I think they should have made this sequel without Bruce he has a lame role in this movie. People hoping to see a new Bruce Lee movie will be disappointed to see that although he's given the top billing, he only has a featuring role. Even the worst movies have at least one memorable bit. If there was one bit about this movie people seem to talk about, it's the scene where Billy fights in a plant nursery. Ironically it doesn't even use Bruce Lee footage. Mind you, they did it more convincingly in No Retreat No Surrender. Not one of the other actors here ever made anything else memorable. Bruce's girlfriend (Colleen Camp) is never mentioned. My advice is to turn it off as soon as Bruce is finished writing his letter to his brother. Nothing else in the movie is worth watching. I found it really sad to see Bruce die. I don't see how a small budgeted movie like this could get enough money to use footage from Enter The Dragon. This was a cheap way of trying to cash in on Bruce's name. Oddly this and the original are credited in Bruce's filmography. Thankfully so far, no one has tried anything like this again. 1981 was the year of Bruce's last movie appearance. It was a sad way to end it, but thankfully this is proof that Bruce's movie career should be left alone.\",\n",
            "       b\"Okay, I'll admit it--I am a goof-ball and I occasionally love a really silly comedy. While I have seen more films by Kurosawa, Bergman and Truffaut than practically anyone on the planet, I still have a soft spot for a dopey comedy that doesn't try to be sophisticated but is simply funny. A few such films that immediately come to mind are MONTY PYTHON AND THE HOLY GRAIL, UHF, START THE REVOLUTION WITHOUT ME, STRANGE BREW and the Bill and Ted movies. They all lack snob appeal but only a zombie or professional film critic could dislike them.<br /><br />While BILL & TED'S BOGUS JOURNEY isn't as wonderful as the original Bill and Ted film, it still is great fun. Also, unlike the original, it actually seems to improve with repeated viewing. I remember not loving the film the first time I saw it--possibly because the other movie set such a high standard for laughs. But, every time I see it again I am amazed at all the great moments--particularly those involving the Grim Reaper. And, by the way, this reaper is about as different from Bergman's in THE SEVENTH SEAL as you can get!! In addition to a lot of laughs, this film features some excellent music--one way that it's actually better than the first film. The Kiss anthem at the end is great but so are the rest of the hard rock tunes--provided you aren't an old killjoy like De Nomolos. Great viewing for kids and adults alike.\",\n",
            "       b\"As an native of Bolton, this film has obvious appeal for me. The location shots are fascinating and show a Bolton very much in transition - there are a number of scenes of apparent dereliction but this serves to show the town being rebuilt - and the idea that the old must make way for the new is right at the heart of this film. A slightly miscast James Mason leads an enjoyable ensemble in a story about a fuss over a herring that spirals into a full-blown generational conflict, then a pleasingly schmaltzy resolution. Though I'm a bit too young to remember it fully, the minutiae of Lancashire life in the 60s is all here: cashing up on a Friday, songs round the piano, the Sunday constitutional, good neighbourliness, the trepidations of courtship, the massive importance of self-respect, and I was pleased to see Naughton's funniest lines from the play left intact. There is no doubt that this film ought to be made available on DVD - it is well crafted and most performances are well realised.\",\n",
            "       b\"This film was positively the worst film I have ever watched. I couldn't sit through the whole thing. I also think writer must have some weird fetish for women peeing puking and crapping... I mean what was that all about! I cant believe this was even made and am disgusted at have #ingwasted a \\xc2\\xa34 rental fee. The quality both picture and sound are terrible, the acting... well doesn't exist . It was a poor excuse for a film and the scenes of pee, crap and puke were reminiscent of 2 girls 1 cup. Urghh....... AVOID AT ALL COST! The girls looked like they had been picked off the street and only got the part cos they'd be willing to take their tops off... While these girls have nice bodies it certainly didn't make up for the fact their shrieking was awful unconvincing and a pain to my ears.<br /><br />This was like (possibly worse) than an ammateur school production without any proper direction and hey there is no need for a set as it all seems to revolve around a car?! <br /><br />Definatey not one to buy folks. Sorry if my first comment is terribly negative but I could not find anything positive to say and I would like to think I may save someone else wasting their money like I have.\",\n",
            "       b'This film has a rotting core of flexible morality, and yet a quirky sense of justice. So many of the regular Joes among us would love to \"stick it to the MAN\". The \"MAN\" in this case is represented by several different characters. Mr. Keller, who Carla reports to at her office. Later, Paul owes 70 large to Mr. Marchand the club owner. And then there is Paul\\'s Parole Officer. There seems to be so much question about this last character\\'s side story. Reviewers point it out as a weakness in an otherwise well crafted subterranean game of ping-pong between our two protagonists, escalating tit-for-tat until their lives change dramatically. They are beholden to each agent of the \"MAN\". One or both could be fired, killed, or imprisoned if they don\\'t do as they are told.<br /><br />The film has a sense of relief at the end. Carla finally gets laid. Her boss is forced out for being a jerk. Mr. Club Owner is a pulpy mess in his own bathroom. They get the $money$. And... they need not worry about reporting in to the Parole Officer, because HIS moral weakness leads him to stash his wandering wife in the basement (or whatever the police found to arrest him). It is a critical subconscious trigger to the lock tumbler that wound us up so tight. Never mind that someone else may get Paul\\'s file later to supervise his release; for the moment they are free! They might even get away with it! <br /><br />Woohoo...<br /><br />They STUCK IT TO THE MAN!',\n",
            "       b'Someone, some day, should do a study of architecture as it figures in horror films; of all those explorations of weirdly laid out mansions, searches for secret passageways and crypts, trackings of monsters through air ducts, and so forth. Offhand I can recall only a few films in which architecture played a major role throughout--\"Demon Seed,\" \"Cube,\" the remake of \"Thirteen Ghosts\"--but it\\'s at the heart of every story about a spooky house or church or crypt; it\\'s all about the character and the affect of spaces, passages, and walls. So I was looking forward to this thriller where it promised to be central. The idea is this: An architect has built--actually, rebuilt--for himself a huge and rambling house; his wife has just left him, mainly because of his own self-centeredness, but also, it is intimated, because she can\\'t get used to the place since he remodeled it. Living in unaccustomed solitude (real this time, rather than virtual), he comes to suspect that somebody else--a stranger who had come to the door one evening asking to use the phone and then suddenly disappeared--is living into the house with him; only the place is big enough so that he never sees him.<br /><br />This is a good start for a melodrama, whose development one would expect to follow some such lines as these: After searching the house for the intruder a few times without success, the architect resorts to his blueprints to undertake more systematic searches, trying in various ways to surprise, intercept, or ambush the intruder, maybe by means of some special features he built into the structure. Meanwhile the intruder has discovered hiding places and back ways between places that the architect didn\\'t foresee or doesn\\'t remember. The movie would turn into a cat-and-mouse game, a hunt, a battle; and finally, in trying to trap the intruder, the architect himself would end up trapped in his own creation, in some way he didn\\'t expect. Then he would be forced to think himself out of it--and maybe at the same time out of his own self-imposed isolation--and in a final twist would nail, and maybe even kill, the ****er.<br /><br />Nothing like this happens in this movie; the house is just a house, the architect is just a guy, and his nemesis is of an unknown character, if he exists at all. Here is what does happen in the movie: Once the intruder is installed in the house--if he is--the architect begins hearing noises, but when he goes to investigate finds nothing. He calls the police, they think he\\'s slightly nuts; he persuades his estranged wife to spend the night, she thinks he\\'s more nuts. At last, more or less accidentally, he runs into the intruder (doesn\\'t get a good look, but figures, who else could it be?--not a hard question, in a story with, to that point, fewer than three principal characters), whereupon he locks the doors, lowers the grills on the windows, throws away the key (I don\\'t know why he thought this necessary), and leaves his victim to starve. I missed why this was a given: the doors and walls are made of steel? In any event, the architect takes to sleeping in his car. And since the idea of the movie has languished undeveloped and cannot now be developed further, something else must be devised to take its place. And this is it: The architect--are you ready?--moves into the house of the man who (presumably) moved into his, and lives there in the same way. How is this possible? It is not, but the movie takes this route to try and make it seem so: The architect has drawn a picture of the man who came to his door; and when he leaves the house he takes the picture with him; and while sitting in his car, he throws the picture into the street; and two kids pick it up and observe that it looks like Martin, their neighbor; whereupon the architect asks where his house is and the kids point the way.<br /><br />If this sequence seems to verge on the implausible, what ensues plunges right in. The architect takes up residence with Martin\\'s wheelchair-ridden wife, unbeknownst to her; so stealthy in his moves and so cunning in his reading of his hostess that he\\'s able always to leave a room just as she enters or to duck out of sight just as she turns around. Throughout this section the movie is clever in one way, making (or leaving it to the viewer to make) the point that his life with this stranger, who doesn\\'t know he\\'s there, is in essence the same life he lived with his wife, as a virtual recluse with her as a convenient buffer. But at the same time, his inability to live in the world makes his transformation into Raffles the cat-burglar entirely incredible. Not to go into the series of twists at the end--including another murder achieved by locking someone in behind another invincible door--this one in front of a landing so flimsy that it collapses under the weight of a wheelchair; two nice people who take murder in stride; and (before the story started) the unnoticed construction of a tunnel under several houses.... To the final, long-anticipated twist, the movie adds another, to make it even more offensive, and then...ends.<br /><br />Here is a story that depends on the development of two things--the idea of the stranger in the house, and the character of the man whose house it is--and fumbles both. The first fumble makes it boring; the second made me angry, as it pushed its main character farther and farther along a more and more zigzaggy path, and never offered any explanation for the character who most required one: Martin the tunnel-builder and sneak-tenant. The story should be redone by someone, some day.',\n",
            "       b'I have been a fervent Hal Hartley supporter since I saw his short \"Surviving Desire\" in high school, and even then was still completely unmoored by his searingly brilliant \"Henry Fool.\" But this 10-year-later sequel is not only unnecessary, it\\'s disgraceful.<br /><br />After a choppy and expeditious start, \"Fay Grim\" devolves into pseudo-intellectualism, flat out boredom, and finally unwarranted - and unwanted - nihilism. And that\\'s just the plot.<br /><br />The majority of the new faces are as frivolous and poorly-developed as the movie: one particularly flat character ends up hogging half the time we spend with the infamous Henry Fool himself, and it\\'s his only spoken scene in the film!<br /><br />Jeff Goldblum\\'s Agent Fulbright, it seems, is the only bright character (a pun surely intended by Hartley as well). How, then, is he left? **SPOILER** Dead via a car bombing, easily making this the gentle-natured Hartley\\'s most violent film to date, and tonally all wrong in a film that\\'s already all wrong from the word go.<br /><br />As for the other new characters, Angus James, Ned Fool (or is it Grim?), not to mention Fay herself... well, I won\\'t spoil their fates, as the movie does a good enough job of that all on its own (when it isn\\'t busying itself with yet another godawful canted angle, which gives the disconcerting impression that Hartley is moving backwards from Auteur to crappy film student).<br /><br />This piece is a complete disaster, a dreadful mess that isn\\'t even good-humored enough to revel in its messiness. Instead it self-indulgently crams the typically fun hipster pretenses of its director into the \"real world\", one uglier and meaner than it need be but not nearly ugly or mean enough to come close to having anything to say. In doing so, Hartley tracks sh*t all over my memories of these people and the marvelous world he originally created for them.<br /><br />I have rarely been so depressed at the movies, and I\\'m counting \"Leaving Las Vegas,\" which at least developed fresh new characters we grew to love before destroying them, instead of immediately disregarding characters already beloved.<br /><br />Grim, indeed.',\n",
            "       b\"This movie is more Lupin then most, especially coming from Funimation. Other then the bad dub, it isn't bad.<br /><br />The first hour is a lot like the Comic (which is what all Lupin the 3rd stuff is based on). Lupin's trying to get a huge treasure. Fujiko's using Lupin's weakness to women to try to get something out of it. The last bit isn't that bad, he's with another women, but of course Fujiko's still him number one.<br /><br />A lot of the other Lupin movies are more Family with cuss words then Lupin. Any good Lupin fan I think will be pleasantly surprised (I know I was after hearing so many bad things about this movie). It might be a bit better without the little animations rolling during the credits (they make it a little mushy) but overall, it isn't a bad film. Good enough to be one of the few I'd watch again of the Lupin III movies.\",\n",
            "       b'The scenery is pretty and the dog is cute. Other than that, this film has absolutely nothing to recommend it. Jack Warden is pleasantly genial as usual, but the script is so awful that even he comes off badly. The plot makes no sense, the dialogue is dumb, and there are numerous smaller faults. But the dog is cute...',\n",
            "       b'Curiously, it is Rene Russo\\'s eyes and mouth--not Buddy the Gorilla\\'s-- that emerge as the focal point of \"Buddy\", a Jim Henson Pictures production through Francis Ford Coppola\\'s Zoetrope. Somehow, countless close-ups of Russo\\'s face slipped passed in the post-production stages, and she literally fills the screen so many times the poor apes are upstaged. Unintentionally funny true story adapted from Gertrude \"Trudy\" Davies Lint\\'s memoirs about a wealthy doctor\\'s wife who turns their mansion into a menagerie for pets and wild-life. The movie goes beyond good intentions...it positively drips with earnest sincerity. The movie never sparkles with the kind of \"family film\" magic that it needed, and before too long both the people and the animals seem distinctly programmed (nothing here feels real). About ten minutes in, two chimpanzees are goofing around in Russo\\'s kitchen and start throwing a butcher\\'s knife back and forth (it misses Alan Cumming\\'s head by inches); yet, no eyebrows are raised because it\\'s all in a day\\'s fun. Still, when full-grown gorilla Buddy gets crazy during a thunderstorm, the cops are called--and everyone stares at Buddy through the window while he busts up the living room furniture. The furniture should be the least of anyone\\'s worries in this flabbergasting, do-gooder failure. But, at least we know Russo was in good hands: whenever director Caroline Thompson needs a good pick-up shot, she gives unstartled Rene another extreme close-up. I wonder what the lipstick budget was on this picture? ** from ****',\n",
            "       b'My very favorite character in films, but in nearly all of them the character of Zorro has a small bit of cloth as a mask and if the villain`s can`t tell who is under that cloth then they are daft.<br /><br />But in Reed Hadley`s \"Zorro`s Fighting Legion\" (serial 1939) the mask fills his whole face making it a real mystery as to who Zorro really is.<br /><br />But anyway Zorro is one of the best character`s in films and to bring it up to date l think Anthony Hopkins in \"The Mask of Zorro\" (1998) is a delight.<br /><br />My interest in films is vast, but l have a real liking for the serial`s of the 30s/40s....<br /><br />Bond2a',\n",
            "       b\"I started to watch this movie expecting nothing, just another movie to watch, but since the first twenty minutes, the artwork and main character, who is enigmatic, doesn't talk much, really got me in this movie.<br /><br />I really liked this movie, it was dark, beautifully acted and really touching. It's a bit slow but the immersion was complete. The directing was awesome by letting us know bits by bits the story leading to the conviction of Joey and his life behind bars. The music was really great and very well incorporated into the scenes. The ending was unexpected with a twist I didn't see coming. It's not the kind of movie we see often.\",\n",
            "       b\"This could be difficult to for some people to get into, being used to Hollywood production styles. The directing is uninspired, apparently simply a filming of the stage set-up, and the audio quality is bad here and there (the rustling of people's clothes occasionally competes with their voices, etc.).<br /><br />My friends and I started watching without knowing what to expect, and the first scene almost put us off. It seemed very stagy and cheesy. Then we picked up on the tone of the content, and really started to enjoy ourselves.<br /><br />It is very funny, despite some corniness. Definitely give it a chance if you appreciate great dialog. Also, Helena Bonham Carter is adorable, of course.\",\n",
            "       b\"You cannot deny that we have an affinity for speed. That's why movies like Fast and the Furious, Dhoom, Rempit get made to play to the satisfaction of audiences, especially local ones. We live on a tiny island, and I cannot fathom why, for the relative efficiency of the public transportation system, most of us want to get into debt by owning a set of wheels which come with 100% tax when they reach our shores, and the myriad of taxes and bills to pay when operating one. Not only that, the high end sports cars were once quipped by a prominent politician up north that they will never reach fourth gear, lest they reach the sea.<br /><br />And these movies are relatively easy to make. Hot wheels and hot chicks always go down well together in targeting the required demographic. For once, those plunging necklines exposing uncanny buxom and short skirts accentuating legs two meters long, can't compete with the attention given to those beautiful curves that exotic cars possess in movies such as these. Of course there are amongst us (ahem) those that go for the sexists portrayal of women as mere sexual objects (otherwise explain why motor shows come with truckloads of models, and movies such as these cannot do without a leggy model in a frame), however, they don't warrant the kind of collective orgasmic sighs whenever the four wheelers come on screen, even when they do exactly nothing and have their gears into Park. The guy sitting beside me, I swear he wet his pants every time his dream car(s) appear, and creamed his pants even more when he hears those growling engine moans.<br /><br />So there we have it, the fan boys who turned up in droves just to watch which of the latest cool cars get featured in the movie. With the Fast and the Furious franchise, the Japanese models like the Evos and the Skylines take centerstage, as does the GT. Here, the Ford GT takes on an incredibly drool-worthy facade modification, that even I'm impressed, alongside the latest models like the Ferrari Enzos, Porshe Carerra GTs, Koenigsegg CCXs, and every car out there that has wings for doors. But seriously, my heart goes out to the cars each time they're mercilessly wrecked just for entertainment. I mean, this are perfectly fine, high performance models that are at the apex of motoring, but yet because whoever financed the movie had millions to blow, they do so because they can,<br /><br />There's no story in Redline, just excuses to put together a movie full of beauties (the cars that is) that can rip down the tarmac in probably the most boring fashion possible, and with the usual shots of pedals (always the accelerator, mind you, tapping the brake pedal is tantamount to blasphemy, and earn you no respect), steering wheels, gear shifts (always shifting up and not down), all these while having the actors make pretend that they're the baddest asses with an engine, snarling and giving each other dirty looks. Not a very tall order for an actor, and that's why we get the most woeful performances ever, with lines that seem to be written by elementary schoolkids.<br /><br />The heroine (yes, it made a statement that girls can drive) Natasha (a very plasticky looking Nadia Bjorlin) is one of those million dollar finds - a girl with model looks who don't mind getting down on fours and immersed in oil, who has racing pedigree within her, and performs with a rock band singing songs with lyrics that are just plain laughable (every line had to do with cars, and when singing about love, just had to string those innuendos like shifting gear shafts, lubricants and going for rides). Introduced against her wishes to illegal racing by a gangsta called Infamous (Eddie Griffin), she gets drawn into family squabbles involving a Leo DiCaprio lookalike Iraq war veteran, and some sleazy lecherous looking rich uncle. Everything else, well like I said, just serves as an excuse for the movie to go from race to race.<br /><br />And it's almost always the same, as there's very limited to what you can do to heighten tension between race cars, especially when you know the race is rigged (for narrative reasons) and can see the race outcome a mile away from the finishing line. While Fast and Furious had quite charismatic actors, and I will put my head on the chopping block by naming Paul Walker, Sun Kang, and of course, the star it created - Vin Diesel, Redline had none, just pretty faces with lots of air unfortunately. It looks like a TV movie in its treatment from the get go, with a very insipid opening sequence where it's one man, one car, and a 105 minutes race against time to get to Vegas.<br /><br />If not for the cars, then this movie seriously is a piece of junk, with bad acting, bad lines and bad action. Strictly for the car fans, or those who like their movies with countless of bevy beauties who pimp their bodies without any speaking lines.\",\n",
            "       b\"In film, I feel as though it should be more than just art. I think it should be more than that, a way to tell a story on screen. This short from David Lynch tells a story but not much of one. I felt that it was funny but too bizarre to be a comedy. It is good film-making but there really isn't anything else to it. As I've said before, I am a huge David Lynch fan but I get frustrated by some of his work because I don't see a need for it at all. This is definitely my least favorite thing he has done so far but I know he's still got a ton of talent and I am excited to see what he has in store for us in the future. If you like Lynch, check this out but don't be surprised when you don't like it very much.\",\n",
            "       b'Too Much of Something Borrowed Grade B-<br /><br />Super Bowl Sunday is one of the slowest days at movie theaters every year. Because of this, movie studios tend to avoid releasing bigger budgeted films that weekend. Every few years a studio releases a counter-programming female skewing movie (2001\\'s \"The Wedding Planner\") to compete with the big game. This Super Bowl weekend similarly titled \"The Wedding Date\" will try to find success and attract viewers not watching the game. <br /><br />Sick of people feeling sorry for her, single-woman, Kat Ellis (Debra Messing, TV\\'s \"Will and Grace\") hires male escort Nick ( Dermot Mulrony, \"About Schmidt\") to pose as her boyfriend for her sister\\'s wedding in London. Her family has been giving her a hard time about her not being married, and her ex- fianc\\xc3\\xa9 of seven years, who dumped her without a reason, is the best man. To make him jealous Kat parades Nick around her ex to make him see what he is missing. But ultimately Nick helps Kat realize that she can open up, and let someone love her.<br /><br />The film borrows too much from similar wedding movies. It is almost a carbon copy of 1999\\'s \"Picture Perfect\" and mixes in scenes similar to \"The Wedding Planner\" and \"My Best Friends Wedding\". The movie also has a reverse \"Pretty Women\" theme going for it, and knowing her audience, the director makes clever references to that and other films.<br /><br />\"The Wedding Date\" has all the clich\\xc3\\xa9d elements of a typical wedding movie, there is the stereotypical overbearing mother (Holland Taylor, \"Legally Blonde\"), and practically plagiarized wedding speeches by the family and friends at the wedding and rehearsal dinner. The twist at the ending has been done before, but it was something that wasn\\'t completely expected. The real reason why Kat was dumped comes as a surprise and changes the direction of the film for the last half hour.<br /><br />Even though \"The Wedding Date\" is predictable, it is able to stand on its own. Debra Messing, in her first lead role, proves she can be charming and funny. Dermot Mulrony has great chemistry with Debra Messing, but most of his dialogue was too corny and unrealistic. He is able to make best of what he is given, and be able to salvage the character. <br /><br />By the use of many clever puns (often sexual), the film is actually funny. Although primarily a chick-flick the film has components everyone can enjoy. The feel good story, and humor make it the best date movie released in a long time.',\n",
            "       b'This is the one movie to see if you are to wed or are a married couple. The movie portrais a couple in Italy and deals with such difficult topics as abortion, infidelity, juggling work and family.<br /><br />The so called \"culture of death\" that we are experiencing nowadays in the world is terrible and this movie will surely make you think.<br /><br />A must see. I hope it gets distributed as it should.<br /><br />Congratulations on the cast and director.<br /><br />Two thumbs up and a 10 star evaluation from me!',\n",
            "       b'The plot had some wretched, unbelievable twists. However, the chemistry between Mel Brooks and Leslie Ann Warren was excellent. The insight that she comes to, \"There are just moments,\" provides a philosophical handle by which anyone could pick up, and embrace, life.<br /><br />That was one of several moments that were wonderfully memorable.',\n",
            "       b\"the fact that the movie is predictable is not a problem. this movie is like a beautiful painting to be enjoyed. the museum scene is like a nice music video. the apres sex scene is an all too familiar scene in all of our adult lives. but the movie would not hold any interest for me without keith gordon. keith gordon is maybe one of the most underrated actors of our time. almost everything i know about acting came from studying mostly his eyes. he had the most compelling face. his character possesses the qualities i look in a guy, sensitivity and dedication. keith gordon is gorgeous. BTW, i kinda wish he'd shave his beard now as his lips, jawline and adam's apple were his prettiest set next to his eyes.\",\n",
            "       b'This movie probably never made a blip on the radar screen, but it\\'s got quite a bit of quality. It\\'s pretty lifelike, yet you think \"It\\'s only a movie.\" Duvall and Close portray common people, and you\\'d never even realize they are now big-name actors. It seems that the jerk in this story is a little too old to be chasing Eugene\\'s girlfriend, but I guess it\\'s possible. It seems unlikely that the kid would travel from Montana to Nevada by himself, but I guess it\\'s possible. You might think that the family troubles in this movie would never happen in your own family, but I guess it\\'s possible. I remember Glenn Close saying something like \"You think the work you do is the hardest part of your life, but it isn\\'t.\"',\n",
            "       b'This movie is so misunderstood it is not even funny. If you think of seeing this one for the shootings.. stay clear. This one deals with the effects and trauma that the survivors must endure. Even the detectives are seeking the answer we all do...WHY? Fantastic acting from the two leading ladies as we see how those we ignore are affected by the very same things we are affected with. Yes the language is harsh at times, but it suits the characters well. There are some loose ends left or unanswered, but all movies have these. The major issues are dealt with and this movie makes a major statement about how all of us adults feel after such major incidents. Highly recommended for teens and adults.',\n",
            "       b'Quite average even by Monogram standards, this mystery (a remake of The Sphinx) has an oddball plot which is not unraveled to much effect -- you\\'ll see through it after about ten minutes. The two leads have some nice breezy dialog at the outset, but John Hamilton is hopelessly dull as the villain (perfectly cast Lionel Atwill originated the role) and Warren Hymer\\'s nitwit shtick is pretty annoying. However, it\\'s worth sitting through for a five-minute appearance by the incomparable Mantan Moreland as Nicodemus the janitor, who gets the better of the defense attorney during a hilarious courtroom appearance. You\\'ve got to hand it to Bill \"One-Take\" Beaudine; he wasn\\'t much of a director, but he would always punch up a routine programmer with some goofy vaudeville.',\n",
            "       b\"I have always admired Susan Sarandon for her integrity and honesty in her private life as well as her talents as an actor. I therefor found it strange that she would appear in a film that so distorted that facts. Her character's rescue from the South Pole was done by a Canadian charter company from Edmonton, Alberta flying a Canadian designed and built Twin Otter aircraft. The trip had been turned down by the US Airforce, Navy and Coast Guard as beyond their capabilities. The same company staged a similar rescue a few years later to bring out a man from the South Pole base. I feel that the film fairly represented a very gripping subject and documented a very courageous woman facing a frightening task. I fail to see why the producers would find it necessary ignore the bravery of the rescue pilots and show the rescue plane as a USAF Hercules.\"],\n",
            "      dtype=object)>, <tf.Tensor: shape=(32,), dtype=int32, numpy=\n",
            "array([0, 0, 0, 0, 0, 0, 0, 0, 1, 0, 1, 1, 0, 1, 0, 0, 1, 0, 0, 1, 1, 1,\n",
            "       0, 0, 0, 1, 1, 1, 1, 1, 0, 0], dtype=int32)>)\n"
          ]
        }
      ]
    },
    {
      "cell_type": "code",
      "source": [
        "from tensorflow.keras.layers import  TextVectorization"
      ],
      "metadata": {
        "id": "oyRuJH9MYWqz"
      },
      "execution_count": null,
      "outputs": []
    },
    {
      "cell_type": "code",
      "source": [
        "text_vectorization =  TextVectorization(\n",
        "    max_tokens = 20000,\n",
        "    output_mode = \"multi_hot\"\n",
        "\n",
        ")"
      ],
      "metadata": {
        "id": "I9Q_lnN5bqmV"
      },
      "execution_count": null,
      "outputs": []
    },
    {
      "cell_type": "code",
      "source": [
        "text_only_train_ds = train_ds.map(lambda x , y : x)"
      ],
      "metadata": {
        "id": "LLS1PLsob5tB"
      },
      "execution_count": null,
      "outputs": []
    },
    {
      "cell_type": "code",
      "source": [
        " text_vectorization.adapt(text_only_train_ds)"
      ],
      "metadata": {
        "id": "OUC4dtEtcFCx"
      },
      "execution_count": null,
      "outputs": []
    },
    {
      "cell_type": "code",
      "source": [
        "bin_1gram_train_ds = train_ds.map(\n",
        "    lambda x , y : ( text_vectorization(x) , y) , num_parallel_calls = 4\n",
        ")"
      ],
      "metadata": {
        "id": "Qpgz5tx_cG1_"
      },
      "execution_count": null,
      "outputs": []
    },
    {
      "cell_type": "code",
      "source": [
        "print(bin_1gram_train_ds)"
      ],
      "metadata": {
        "colab": {
          "base_uri": "https://localhost:8080/"
        },
        "id": "AZTh375acK8I",
        "outputId": "a65eeb7c-1330-4d15-cebd-6e42d151add7"
      },
      "execution_count": null,
      "outputs": [
        {
          "output_type": "stream",
          "name": "stdout",
          "text": [
            "<_ParallelMapDataset element_spec=(TensorSpec(shape=(None, 20000), dtype=tf.int64, name=None), TensorSpec(shape=(None,), dtype=tf.int32, name=None))>\n"
          ]
        }
      ]
    },
    {
      "cell_type": "code",
      "source": [],
      "metadata": {
        "colab": {
          "base_uri": "https://localhost:8080/"
        },
        "id": "T0ZepWOOcYPB",
        "outputId": "f91e7a53-45ab-4c41-d498-80335c52b80b"
      },
      "execution_count": null,
      "outputs": [
        {
          "output_type": "stream",
          "name": "stdout",
          "text": [
            "32\n"
          ]
        }
      ]
    },
    {
      "cell_type": "code",
      "source": [],
      "metadata": {
        "id": "8f6Byof4coCa"
      },
      "execution_count": null,
      "outputs": []
    },
    {
      "cell_type": "code",
      "source": [],
      "metadata": {
        "id": "wQQc-JlZco7X"
      },
      "execution_count": null,
      "outputs": []
    }
  ]
}